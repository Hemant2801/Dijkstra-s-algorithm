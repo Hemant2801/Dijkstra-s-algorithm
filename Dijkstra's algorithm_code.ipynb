{
 "cells": [
  {
   "cell_type": "code",
   "execution_count": 1,
   "id": "4261b157",
   "metadata": {},
   "outputs": [
    {
     "name": "stdout",
     "output_type": "stream",
     "text": [
      "SHORTEST DISTANCE IS 6\n",
      "OPTIMAL PATH IS ['a', 'c', 'd']\n"
     ]
    }
   ],
   "source": [
    "graph = {\n",
    "    'a':{'b':3, 'c':4, 'd':7},\n",
    "    'b':{'c':1, 'f':5},\n",
    "    'c':{'f':6, 'd':2},\n",
    "    'd':{'e':3, 'g':6},\n",
    "    'e':{'g':3, 'h':4},\n",
    "    'f':{'e':1, 'h':8},\n",
    "    'g':{'h':2},\n",
    "    'h':{'g':2}\n",
    "}\n",
    "\n",
    "def dijkstra(graph ,start ,end):\n",
    "    shortest_path = {}\n",
    "    track_record = {}\n",
    "    yet_to_be_seen_node = graph\n",
    "    infinity = 9999\n",
    "    path = []\n",
    "    \n",
    "    for nodes in yet_to_be_seen_node:\n",
    "        shortest_path[nodes] = infinity\n",
    "    shortest_path[start] = 0\n",
    "    \n",
    "    while yet_to_be_seen_node:\n",
    "        minimum_distance_node = None\n",
    "        \n",
    "        for nodes in yet_to_be_seen_node:\n",
    "            if minimum_distance_node is None:\n",
    "                minimum_distance_node = nodes\n",
    "            elif shortest_path[nodes] < shortest_path[minimum_distance_node]:\n",
    "                minimum_distance_node = nodes\n",
    "        \n",
    "        path_options = graph[minimum_distance_node].items()\n",
    "        \n",
    "        for child_node,weight in path_options:\n",
    "            if (weight + shortest_path[minimum_distance_node]) < shortest_path[child_node]:\n",
    "                shortest_path[child_node] = weight + shortest_path[minimum_distance_node]\n",
    "                track_record[child_node] = minimum_distance_node\n",
    "                \n",
    "        yet_to_be_seen_node.pop(minimum_distance_node)\n",
    "        \n",
    "    current_node = end\n",
    "        \n",
    "    while current_node != start:\n",
    "        try:\n",
    "            path.insert(0 ,current_node)\n",
    "            current_node = track_record[current_node]\n",
    "        except KeyError:\n",
    "            print('PATH IS NOT RAECHABLE')\n",
    "            break\n",
    "        \n",
    "    path.insert(0,start)\n",
    "        \n",
    "    if shortest_path[end] != infinity:\n",
    "        print('SHORTEST DISTANCE IS ' + str(shortest_path[end]))\n",
    "        print('OPTIMAL PATH IS ' + str(path))\n",
    "\n",
    "dijkstra(graph, 'a','d')"
   ]
  },
  {
   "cell_type": "code",
   "execution_count": null,
   "id": "2b63c2b4",
   "metadata": {},
   "outputs": [],
   "source": []
  }
 ],
 "metadata": {
  "kernelspec": {
   "display_name": "Python 3",
   "language": "python",
   "name": "python3"
  },
  "language_info": {
   "codemirror_mode": {
    "name": "ipython",
    "version": 3
   },
   "file_extension": ".py",
   "mimetype": "text/x-python",
   "name": "python",
   "nbconvert_exporter": "python",
   "pygments_lexer": "ipython3",
   "version": "3.8.8"
  }
 },
 "nbformat": 4,
 "nbformat_minor": 5
}
